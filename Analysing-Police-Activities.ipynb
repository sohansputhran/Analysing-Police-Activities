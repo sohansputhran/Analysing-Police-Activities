{
 "cells": [
  {
   "cell_type": "code",
   "execution_count": 1,
   "metadata": {},
   "outputs": [
    {
     "name": "stderr",
     "output_type": "stream",
     "text": [
      "C:\\Users\\sohan\\Anaconda3\\lib\\site-packages\\IPython\\core\\interactiveshell.py:3057: DtypeWarning: Columns (6,17,30) have mixed types. Specify dtype option on import or set low_memory=False.\n",
      "  interactivity=interactivity, compiler=compiler, result=result)\n"
     ]
    }
   ],
   "source": [
    "#Import packages\n",
    "import pandas as pd\n",
    "\n",
    "# Read the data into a DataFrame named ri ('ri' for Rhode Island)\n",
    "ri = pd.read_csv('ri_statewide.csv')"
   ]
  },
  {
   "cell_type": "code",
   "execution_count": 2,
   "metadata": {},
   "outputs": [
    {
     "data": {
      "text/html": [
       "<div>\n",
       "<style scoped>\n",
       "    .dataframe tbody tr th:only-of-type {\n",
       "        vertical-align: middle;\n",
       "    }\n",
       "\n",
       "    .dataframe tbody tr th {\n",
       "        vertical-align: top;\n",
       "    }\n",
       "\n",
       "    .dataframe thead th {\n",
       "        text-align: right;\n",
       "    }\n",
       "</style>\n",
       "<table border=\"1\" class=\"dataframe\">\n",
       "  <thead>\n",
       "    <tr style=\"text-align: right;\">\n",
       "      <th></th>\n",
       "      <th>raw_row_number</th>\n",
       "      <th>date</th>\n",
       "      <th>time</th>\n",
       "      <th>zone</th>\n",
       "      <th>subject_race</th>\n",
       "      <th>subject_sex</th>\n",
       "      <th>department_id</th>\n",
       "      <th>type</th>\n",
       "      <th>arrest_made</th>\n",
       "      <th>citation_issued</th>\n",
       "      <th>...</th>\n",
       "      <th>reason_for_stop</th>\n",
       "      <th>vehicle_make</th>\n",
       "      <th>vehicle_model</th>\n",
       "      <th>raw_BasisForStop</th>\n",
       "      <th>raw_OperatorRace</th>\n",
       "      <th>raw_OperatorSex</th>\n",
       "      <th>raw_ResultOfStop</th>\n",
       "      <th>raw_SearchResultOne</th>\n",
       "      <th>raw_SearchResultTwo</th>\n",
       "      <th>raw_SearchResultThree</th>\n",
       "    </tr>\n",
       "  </thead>\n",
       "  <tbody>\n",
       "    <tr>\n",
       "      <th>0</th>\n",
       "      <td>1</td>\n",
       "      <td>22-11-2005</td>\n",
       "      <td>11:15:00</td>\n",
       "      <td>X3</td>\n",
       "      <td>white</td>\n",
       "      <td>male</td>\n",
       "      <td>200</td>\n",
       "      <td>vehicular</td>\n",
       "      <td>False</td>\n",
       "      <td>True</td>\n",
       "      <td>...</td>\n",
       "      <td>Speeding</td>\n",
       "      <td>NaN</td>\n",
       "      <td>NaN</td>\n",
       "      <td>SP</td>\n",
       "      <td>W</td>\n",
       "      <td>M</td>\n",
       "      <td>M</td>\n",
       "      <td>NaN</td>\n",
       "      <td>NaN</td>\n",
       "      <td>NaN</td>\n",
       "    </tr>\n",
       "    <tr>\n",
       "      <th>1</th>\n",
       "      <td>2</td>\n",
       "      <td>01-10-2005</td>\n",
       "      <td>12:20:00</td>\n",
       "      <td>X3</td>\n",
       "      <td>white</td>\n",
       "      <td>male</td>\n",
       "      <td>200</td>\n",
       "      <td>vehicular</td>\n",
       "      <td>False</td>\n",
       "      <td>True</td>\n",
       "      <td>...</td>\n",
       "      <td>Speeding</td>\n",
       "      <td>NaN</td>\n",
       "      <td>NaN</td>\n",
       "      <td>SP</td>\n",
       "      <td>W</td>\n",
       "      <td>M</td>\n",
       "      <td>M</td>\n",
       "      <td>NaN</td>\n",
       "      <td>NaN</td>\n",
       "      <td>NaN</td>\n",
       "    </tr>\n",
       "    <tr>\n",
       "      <th>2</th>\n",
       "      <td>3</td>\n",
       "      <td>01-10-2005</td>\n",
       "      <td>12:30:00</td>\n",
       "      <td>X3</td>\n",
       "      <td>white</td>\n",
       "      <td>female</td>\n",
       "      <td>200</td>\n",
       "      <td>vehicular</td>\n",
       "      <td>False</td>\n",
       "      <td>True</td>\n",
       "      <td>...</td>\n",
       "      <td>Speeding</td>\n",
       "      <td>NaN</td>\n",
       "      <td>NaN</td>\n",
       "      <td>SP</td>\n",
       "      <td>W</td>\n",
       "      <td>F</td>\n",
       "      <td>M</td>\n",
       "      <td>NaN</td>\n",
       "      <td>NaN</td>\n",
       "      <td>NaN</td>\n",
       "    </tr>\n",
       "    <tr>\n",
       "      <th>3</th>\n",
       "      <td>4</td>\n",
       "      <td>01-10-2005</td>\n",
       "      <td>12:50:00</td>\n",
       "      <td>X3</td>\n",
       "      <td>white</td>\n",
       "      <td>male</td>\n",
       "      <td>200</td>\n",
       "      <td>vehicular</td>\n",
       "      <td>False</td>\n",
       "      <td>True</td>\n",
       "      <td>...</td>\n",
       "      <td>Speeding</td>\n",
       "      <td>NaN</td>\n",
       "      <td>NaN</td>\n",
       "      <td>SP</td>\n",
       "      <td>W</td>\n",
       "      <td>M</td>\n",
       "      <td>M</td>\n",
       "      <td>NaN</td>\n",
       "      <td>NaN</td>\n",
       "      <td>NaN</td>\n",
       "    </tr>\n",
       "    <tr>\n",
       "      <th>4</th>\n",
       "      <td>5</td>\n",
       "      <td>01-10-2005</td>\n",
       "      <td>13:10:00</td>\n",
       "      <td>X3</td>\n",
       "      <td>white</td>\n",
       "      <td>female</td>\n",
       "      <td>200</td>\n",
       "      <td>vehicular</td>\n",
       "      <td>False</td>\n",
       "      <td>True</td>\n",
       "      <td>...</td>\n",
       "      <td>Speeding</td>\n",
       "      <td>NaN</td>\n",
       "      <td>NaN</td>\n",
       "      <td>SP</td>\n",
       "      <td>W</td>\n",
       "      <td>F</td>\n",
       "      <td>M</td>\n",
       "      <td>NaN</td>\n",
       "      <td>NaN</td>\n",
       "      <td>NaN</td>\n",
       "    </tr>\n",
       "  </tbody>\n",
       "</table>\n",
       "<p>5 rows × 31 columns</p>\n",
       "</div>"
      ],
      "text/plain": [
       "   raw_row_number        date      time zone subject_race subject_sex  \\\n",
       "0               1  22-11-2005  11:15:00   X3        white        male   \n",
       "1               2  01-10-2005  12:20:00   X3        white        male   \n",
       "2               3  01-10-2005  12:30:00   X3        white      female   \n",
       "3               4  01-10-2005  12:50:00   X3        white        male   \n",
       "4               5  01-10-2005  13:10:00   X3        white      female   \n",
       "\n",
       "  department_id       type arrest_made citation_issued  ... reason_for_stop  \\\n",
       "0           200  vehicular       False            True  ...        Speeding   \n",
       "1           200  vehicular       False            True  ...        Speeding   \n",
       "2           200  vehicular       False            True  ...        Speeding   \n",
       "3           200  vehicular       False            True  ...        Speeding   \n",
       "4           200  vehicular       False            True  ...        Speeding   \n",
       "\n",
       "  vehicle_make vehicle_model raw_BasisForStop raw_OperatorRace  \\\n",
       "0          NaN           NaN               SP                W   \n",
       "1          NaN           NaN               SP                W   \n",
       "2          NaN           NaN               SP                W   \n",
       "3          NaN           NaN               SP                W   \n",
       "4          NaN           NaN               SP                W   \n",
       "\n",
       "  raw_OperatorSex raw_ResultOfStop raw_SearchResultOne  raw_SearchResultTwo  \\\n",
       "0               M                M                 NaN                  NaN   \n",
       "1               M                M                 NaN                  NaN   \n",
       "2               F                M                 NaN                  NaN   \n",
       "3               M                M                 NaN                  NaN   \n",
       "4               F                M                 NaN                  NaN   \n",
       "\n",
       "  raw_SearchResultThree  \n",
       "0                   NaN  \n",
       "1                   NaN  \n",
       "2                   NaN  \n",
       "3                   NaN  \n",
       "4                   NaN  \n",
       "\n",
       "[5 rows x 31 columns]"
      ]
     },
     "execution_count": 2,
     "metadata": {},
     "output_type": "execute_result"
    }
   ],
   "source": [
    "ri.head()"
   ]
  },
  {
   "cell_type": "code",
   "execution_count": 3,
   "metadata": {},
   "outputs": [
    {
     "data": {
      "text/plain": [
       "raw_row_number                0\n",
       "date                         10\n",
       "time                         10\n",
       "zone                         10\n",
       "subject_race              29073\n",
       "subject_sex               29097\n",
       "department_id                10\n",
       "type                          0\n",
       "arrest_made               29073\n",
       "citation_issued           29073\n",
       "warning_issued            29073\n",
       "outcome                   35841\n",
       "contraband_found         491919\n",
       "contraband_drugs         493693\n",
       "contraband_weapons       497886\n",
       "contraband_alcohol       508464\n",
       "contraband_other         491919\n",
       "frisk_performed              10\n",
       "search_conducted              0\n",
       "search_basis             491919\n",
       "reason_for_search        491919\n",
       "reason_for_stop           29073\n",
       "vehicle_make             191564\n",
       "vehicle_model            279593\n",
       "raw_BasisForStop          29073\n",
       "raw_OperatorRace          29073\n",
       "raw_OperatorSex           29073\n",
       "raw_ResultOfStop          29073\n",
       "raw_SearchResultOne      491919\n",
       "raw_SearchResultTwo      508862\n",
       "raw_SearchResultThree    509513\n",
       "dtype: int64"
      ]
     },
     "execution_count": 3,
     "metadata": {},
     "output_type": "execute_result"
    }
   ],
   "source": [
    "# Count the number of missing values in each column\n",
    "ri.isnull().sum()"
   ]
  },
  {
   "cell_type": "code",
   "execution_count": 4,
   "metadata": {},
   "outputs": [
    {
     "name": "stdout",
     "output_type": "stream",
     "text": [
      "raw_row_number                0\n",
      "date                          0\n",
      "time                          0\n",
      "zone                          0\n",
      "subject_race                  0\n",
      "subject_sex                   0\n",
      "department_id                 0\n",
      "type                          0\n",
      "arrest_made                   0\n",
      "citation_issued               0\n",
      "warning_issued                0\n",
      "outcome                    6763\n",
      "contraband_found         462822\n",
      "contraband_drugs         464596\n",
      "contraband_weapons       468789\n",
      "contraband_alcohol       479367\n",
      "contraband_other         462822\n",
      "frisk_performed               0\n",
      "search_conducted              0\n",
      "search_basis             462822\n",
      "reason_for_search        462822\n",
      "reason_for_stop               0\n",
      "vehicle_make             162525\n",
      "vehicle_model            250553\n",
      "raw_BasisForStop              0\n",
      "raw_OperatorRace              0\n",
      "raw_OperatorSex               0\n",
      "raw_ResultOfStop              0\n",
      "raw_SearchResultOne      462822\n",
      "raw_SearchResultTwo      479765\n",
      "raw_SearchResultThree    480416\n",
      "dtype: int64\n",
      "(480584, 31)\n"
     ]
    }
   ],
   "source": [
    "# Drop all rows that are missing 'driver_gender'\n",
    "ri.dropna(subset=['subject_sex'], inplace=True)\n",
    "\n",
    "# Count the number of missing values in each column (again)\n",
    "print(ri.isnull().sum())\n",
    "\n",
    "# Examine the shape of the DataFrame\n",
    "print(ri.shape)"
   ]
  },
  {
   "cell_type": "code",
   "execution_count": 5,
   "metadata": {},
   "outputs": [
    {
     "name": "stdout",
     "output_type": "stream",
     "text": [
      "0    False\n",
      "1    False\n",
      "2    False\n",
      "3    False\n",
      "4    False\n",
      "Name: arrest_made, dtype: object\n"
     ]
    }
   ],
   "source": [
    "# Examine the head of the 'is_arrested' column\n",
    "print(ri.arrest_made.head())"
   ]
  },
  {
   "cell_type": "code",
   "execution_count": 6,
   "metadata": {},
   "outputs": [
    {
     "data": {
      "text/plain": [
       "raw_row_number            int64\n",
       "date                     object\n",
       "time                     object\n",
       "zone                     object\n",
       "subject_race             object\n",
       "subject_sex              object\n",
       "department_id            object\n",
       "type                     object\n",
       "arrest_made              object\n",
       "citation_issued          object\n",
       "warning_issued           object\n",
       "outcome                  object\n",
       "contraband_found         object\n",
       "contraband_drugs         object\n",
       "contraband_weapons       object\n",
       "contraband_alcohol       object\n",
       "contraband_other         object\n",
       "frisk_performed          object\n",
       "search_conducted           bool\n",
       "search_basis             object\n",
       "reason_for_search        object\n",
       "reason_for_stop          object\n",
       "vehicle_make             object\n",
       "vehicle_model            object\n",
       "raw_BasisForStop         object\n",
       "raw_OperatorRace         object\n",
       "raw_OperatorSex          object\n",
       "raw_ResultOfStop         object\n",
       "raw_SearchResultOne      object\n",
       "raw_SearchResultTwo      object\n",
       "raw_SearchResultThree    object\n",
       "dtype: object"
      ]
     },
     "execution_count": 6,
     "metadata": {},
     "output_type": "execute_result"
    }
   ],
   "source": [
    "# Check the datatypes of the dataframe columns\n",
    "ri.dtypes"
   ]
  },
  {
   "cell_type": "code",
   "execution_count": 7,
   "metadata": {},
   "outputs": [
    {
     "data": {
      "text/plain": [
       "dtype('bool')"
      ]
     },
     "execution_count": 7,
     "metadata": {},
     "output_type": "execute_result"
    }
   ],
   "source": [
    "# Change the data type of 'is_arrested' to 'bool'\n",
    "ri['arrest_made'] = ri.arrest_made.astype('bool')\n",
    "\n",
    "# Check the data type of 'is_arrested' \n",
    "ri.arrest_made.dtype"
   ]
  },
  {
   "cell_type": "code",
   "execution_count": 8,
   "metadata": {},
   "outputs": [
    {
     "data": {
      "text/plain": [
       "raw_row_number                    int64\n",
       "date                             object\n",
       "time                             object\n",
       "zone                             object\n",
       "subject_race                     object\n",
       "subject_sex                      object\n",
       "department_id                    object\n",
       "type                             object\n",
       "arrest_made                        bool\n",
       "citation_issued                  object\n",
       "warning_issued                   object\n",
       "outcome                          object\n",
       "contraband_found                 object\n",
       "contraband_drugs                 object\n",
       "contraband_weapons               object\n",
       "contraband_alcohol               object\n",
       "contraband_other                 object\n",
       "frisk_performed                  object\n",
       "search_conducted                   bool\n",
       "search_basis                     object\n",
       "reason_for_search                object\n",
       "reason_for_stop                  object\n",
       "vehicle_make                     object\n",
       "vehicle_model                    object\n",
       "raw_BasisForStop                 object\n",
       "raw_OperatorRace                 object\n",
       "raw_OperatorSex                  object\n",
       "raw_ResultOfStop                 object\n",
       "raw_SearchResultOne              object\n",
       "raw_SearchResultTwo              object\n",
       "raw_SearchResultThree            object\n",
       "datetime                 datetime64[ns]\n",
       "dtype: object"
      ]
     },
     "execution_count": 8,
     "metadata": {},
     "output_type": "execute_result"
    }
   ],
   "source": [
    "# Concatenate 'stop_date' and 'stop_time' (separated by a space)\n",
    "combined = ri.date.str.cat(ri.time, sep = ' ')\n",
    "\n",
    "# Convert 'combined' to datetime format\n",
    "ri['datetime'] = pd.to_datetime(combined)\n",
    "\n",
    "# Examine the data types of the DataFrame\n",
    "ri.dtypes"
   ]
  },
  {
   "cell_type": "code",
   "execution_count": 9,
   "metadata": {},
   "outputs": [
    {
     "data": {
      "text/plain": [
       "DatetimeIndex(['2005-11-22 11:15:00', '2005-01-10 12:20:00',\n",
       "               '2005-01-10 12:30:00', '2005-01-10 12:50:00',\n",
       "               '2005-01-10 13:10:00', '2005-01-10 15:50:00',\n",
       "               '2005-11-09 11:45:00', '2005-11-09 11:45:00',\n",
       "               '2005-04-10 11:55:00', '2005-04-10 11:55:00',\n",
       "               ...\n",
       "               '2015-12-29 13:28:00', '2015-12-27 12:45:00',\n",
       "               '2015-12-27 13:43:00', '2015-12-28 02:29:00',\n",
       "               '2015-12-30 11:42:00', '2015-08-16 13:37:00',\n",
       "               '2015-04-08 10:40:00', '2015-12-20 11:17:00',\n",
       "               '2015-09-11 23:35:00', '2015-10-30 11:09:00'],\n",
       "              dtype='datetime64[ns]', name='datetime', length=480584, freq=None)"
      ]
     },
     "execution_count": 9,
     "metadata": {},
     "output_type": "execute_result"
    }
   ],
   "source": [
    "# Set 'stop_datetime' as the index\n",
    "ri.set_index('datetime', inplace=True)\n",
    "\n",
    "# Examine the index\n",
    "ri.index"
   ]
  },
  {
   "cell_type": "code",
   "execution_count": 43,
   "metadata": {},
   "outputs": [
    {
     "data": {
      "text/plain": [
       "citation    0.904092\n",
       "warning     0.060867\n",
       "arrest      0.035041\n",
       "Name: outcome, dtype: float64"
      ]
     },
     "execution_count": 43,
     "metadata": {},
     "output_type": "execute_result"
    }
   ],
   "source": [
    "# Express the counts as proportions\n",
    "ri.outcome.value_counts(normalize=True)"
   ]
  },
  {
   "cell_type": "code",
   "execution_count": 42,
   "metadata": {},
   "outputs": [
    {
     "data": {
      "text/plain": [
       "subject_sex\n",
       "female    0.018751\n",
       "male      0.043792\n",
       "Name: search_conducted, dtype: float64"
      ]
     },
     "execution_count": 42,
     "metadata": {},
     "output_type": "execute_result"
    }
   ],
   "source": [
    "# Calculate the search rate for both groups simultaneously\n",
    "ri.groupby(['subject_sex']).search_conducted.mean()"
   ]
  },
  {
   "cell_type": "code",
   "execution_count": 54,
   "metadata": {},
   "outputs": [
    {
     "data": {
      "text/plain": [
       "reason_for_stop                   subject_sex\n",
       "APB                               female         0.165138\n",
       "                                  male           0.255319\n",
       "Call for Service                  female         0.042230\n",
       "                                  male           0.092419\n",
       "Equipment/Inspection Violation    female         0.040245\n",
       "                                  male           0.070916\n",
       "Motorist Assist/Courtesy          female         0.033133\n",
       "                                  male           0.089802\n",
       "Other Traffic Violation           female         0.038021\n",
       "                                  male           0.059156\n",
       "Registration Violation            female         0.054700\n",
       "                                  male           0.103589\n",
       "Seatbelt Violation                female         0.017746\n",
       "                                  male           0.031705\n",
       "Special Detail/Directed Patrol    female         0.018045\n",
       "                                  male           0.010249\n",
       "Speeding                          female         0.007738\n",
       "                                  male           0.026630\n",
       "Suspicious Person                 female         0.216216\n",
       "                                  male           0.305970\n",
       "Violation of City/Town Ordinance  female         0.060185\n",
       "                                  male           0.073171\n",
       "Warrant                           female         0.148148\n",
       "                                  male           0.311111\n",
       "Name: search_conducted, dtype: float64"
      ]
     },
     "execution_count": 54,
     "metadata": {},
     "output_type": "execute_result"
    }
   ],
   "source": [
    "# Calculate the search rate for each combination of gender and violation\n",
    "ri.groupby(['reason_for_stop','subject_sex']).search_conducted.mean()"
   ]
  },
  {
   "cell_type": "code",
   "execution_count": 55,
   "metadata": {},
   "outputs": [
    {
     "data": {
      "text/plain": [
       "<matplotlib.axes._subplots.AxesSubplot at 0x24698523278>"
      ]
     },
     "execution_count": 55,
     "metadata": {},
     "output_type": "execute_result"
    },
    {
     "data": {
      "image/png": "[encoded data removed]",
      "text/plain": [
       "<Figure size 432x288 with 1 Axes>"
      ]
     },
     "metadata": {
      "needs_background": "light"
     },
     "output_type": "display_data"
    }
   ],
   "source": [
    "# Import matplotlib.pyplot as plt for visualization\n",
    "import matplotlib.pyplot as plt\n",
    "%matplotlib inline\n",
    "\n",
    "fig, ax = plt.subplots()\n",
    "ri.groupby(['reason_for_stop','subject_sex']).search_conducted.mean().unstack().plot(kind='bar',ax = ax)"
   ]
  },
  {
   "cell_type": "markdown",
   "metadata": {},
   "source": [
    "It is clear that men get stopped more than women from the above bar graph."
   ]
  },
  {
   "cell_type": "code",
   "execution_count": 56,
   "metadata": {},
   "outputs": [
    {
     "name": "stdout",
     "output_type": "stream",
     "text": [
      "Incident to Arrest                                               6998\n",
      "Probable Cause                                                   2063\n",
      "Odor of Drugs/Alcohol                                            1872\n",
      "Reasonable Suspicion                                             1141\n",
      "Inventory/Tow                                                    1101\n",
      "Terry Frisk                                                       879\n",
      "Incident to Arrest|Inventory/Tow                                  582\n",
      "Plain View                                                        425\n",
      "Odor of Drugs/Alcohol|Probable Cause                              153\n",
      "Probable Cause|Odor of Drugs/Alcohol                              145\n",
      "Incident to Arrest|Odor of Drugs/Alcohol                          123\n",
      "Incident to Arrest|Terry Frisk                                    102\n",
      "Incident to Arrest|Probable Cause                                 100\n",
      "Odor of Drugs/Alcohol|Incident to Arrest                           96\n",
      "Odor of Drugs/Alcohol|Plain View                                   95\n",
      "Odor of Drugs/Alcohol|Reasonable Suspicion                         84\n",
      "Probable Cause|Incident to Arrest                                  81\n",
      "Plain View|Odor of Drugs/Alcohol                                   76\n",
      "Reasonable Suspicion|Probable Cause                                68\n",
      "Inventory/Tow|Incident to Arrest                                   67\n",
      "Probable Cause|Terry Frisk                                         67\n",
      "Terry Frisk|Incident to Arrest                                     56\n",
      "Terry Frisk|Probable Cause                                         50\n",
      "Probable Cause|Reasonable Suspicion                                48\n",
      "Incident to Arrest|Odor of Drugs/Alcohol|Inventory/Tow             48\n",
      "Incident to Arrest|Terry Frisk|Inventory/Tow                       47\n",
      "Reasonable Suspicion|Terry Frisk                                   45\n",
      "Probable Cause|Plain View                                          38\n",
      "Terry Frisk|Reasonable Suspicion                                   38\n",
      "Reasonable Suspicion|Odor of Drugs/Alcohol                         31\n",
      "                                                                 ... \n",
      "Reasonable Suspicion|Odor of Drugs/Alcohol|Inventory/Tow            1\n",
      "Reasonable Suspicion|Incident to Arrest|Odor of Drugs/Alcohol       1\n",
      "Plain View|Incident to Arrest|Odor of Drugs/Alcohol                 1\n",
      "Plain View|Terry Frisk|Probable Cause                               1\n",
      "Reasonable Suspicion|Plain View|Terry Frisk                         1\n",
      "Odor of Drugs/Alcohol|Inventory/Tow|Reasonable Suspicion            1\n",
      "Plain View|Probable Cause|Inventory/Tow                             1\n",
      "Probable Cause|Inventory/Tow|Incident to Arrest                     1\n",
      "Plain View|Terry Frisk|Odor of Drugs/Alcohol                        1\n",
      "Odor of Drugs/Alcohol|Incident to Arrest|Terry Frisk                1\n",
      "Reasonable Suspicion|Probable Cause|Terry Frisk                     1\n",
      "Reasonable Suspicion|Odor of Drugs/Alcohol|Plain View               1\n",
      "Inventory/Tow|Odor of Drugs/Alcohol|Reasonable Suspicion            1\n",
      "Reasonable Suspicion|Incident to Arrest|Probable Cause              1\n",
      "Terry Frisk|Incident to Arrest|Odor of Drugs/Alcohol                1\n",
      "Inventory/Tow|Probable Cause|Reasonable Suspicion                   1\n",
      "Plain View|Incident to Arrest|Terry Frisk                           1\n",
      "Terry Frisk|Plain View|Odor of Drugs/Alcohol                        1\n",
      "Incident to Arrest|Reasonable Suspicion|Probable Cause              1\n",
      "Plain View|Reasonable Suspicion|Odor of Drugs/Alcohol               1\n",
      "Inventory/Tow|Incident to Arrest|Odor of Drugs/Alcohol              1\n",
      "Inventory/Tow|Plain View|Probable Cause                             1\n",
      "Incident to Arrest|Terry Frisk|Plain View                           1\n",
      "Terry Frisk|Plain View|Incident to Arrest                           1\n",
      "Terry Frisk|Odor of Drugs/Alcohol|Inventory/Tow                     1\n",
      "Terry Frisk|Reasonable Suspicion|Inventory/Tow                      1\n",
      "Inventory/Tow|Odor of Drugs/Alcohol|Incident to Arrest              1\n",
      "Inventory/Tow|Odor of Drugs/Alcohol|Plain View                      1\n",
      "Reasonable Suspicion|Inventory/Tow|Odor of Drugs/Alcohol            1\n",
      "Inventory/Tow|Odor of Drugs/Alcohol|Probable Cause                  1\n",
      "Name: reason_for_search, Length: 188, dtype: int64\n"
     ]
    }
   ],
   "source": [
    "# Count the 'search_type' values\n",
    "print(ri.reason_for_search.value_counts())"
   ]
  },
  {
   "cell_type": "code",
   "execution_count": 57,
   "metadata": {},
   "outputs": [
    {
     "data": {
      "text/plain": [
       "1598"
      ]
     },
     "execution_count": 57,
     "metadata": {},
     "output_type": "execute_result"
    }
   ],
   "source": [
    "# Check if 'search_type' contains the string 'Protective Frisk'\n",
    "# When a search for weapons is authorized, the procedure is known as a stop and frisk\n",
    "\n",
    "ri['frisk'] = ri.reason_for_search.str.contains('Frisk', na=False)\n",
    "\n",
    "# Take the sum of 'frisk'\n",
    "sum(ri.frisk)"
   ]
  },
  {
   "cell_type": "code",
   "execution_count": 58,
   "metadata": {},
   "outputs": [
    {
     "data": {
      "text/plain": [
       "subject_sex\n",
       "female    0.066694\n",
       "male      0.093707\n",
       "Name: frisk, dtype: float64"
      ]
     },
     "execution_count": 58,
     "metadata": {},
     "output_type": "execute_result"
    }
   ],
   "source": [
    "# Create a DataFrame of stops in which a search was conducted\n",
    "searched = ri[ri.search_conducted == True]\n",
    "\n",
    "# Calculate the frisk rate for each gender\n",
    "searched.groupby(['subject_sex']).frisk.mean()"
   ]
  },
  {
   "cell_type": "markdown",
   "metadata": {},
   "source": [
    "Frisking is done on men almost all the time they are stopped (93% of the time).\n",
    "Not the same case in women (66%)"
   ]
  },
  {
   "cell_type": "code",
   "execution_count": 59,
   "metadata": {},
   "outputs": [],
   "source": [
    "# Save the hourly arrest rate\n",
    "hourly_arrest_rate = ri.groupby(ri.index.hour).arrest_made.mean()"
   ]
  },
  {
   "cell_type": "code",
   "execution_count": 60,
   "metadata": {},
   "outputs": [
    {
     "data": {
      "image/png": "[encoded data removed]",
      "text/plain": [
       "<Figure size 432x288 with 1 Axes>"
      ]
     },
     "metadata": {
      "needs_background": "light"
     },
     "output_type": "display_data"
    }
   ],
   "source": [
    "# Create a line plot of 'hourly_arrest_rate'\n",
    "hourly_arrest_rate.plot()\n",
    "\n",
    "# Add the xlabel, ylabel, and title\n",
    "plt.xlabel('Hour')\n",
    "plt.ylabel('Arrest Rate')\n",
    "plt.title('Arrest Rate by Time of Day')\n",
    "\n",
    "# Display the plot\n",
    "plt.show()"
   ]
  },
  {
   "cell_type": "code",
   "execution_count": null,
   "metadata": {},
   "outputs": [],
   "source": []
  }
 ],
 "metadata": {
  "kernelspec": {
   "display_name": "Python 3",
   "language": "python",
   "name": "python3"
  },
  "language_info": {
   "codemirror_mode": {
    "name": "ipython",
    "version": 3
   },
   "file_extension": ".py",
   "mimetype": "text/x-python",
   "name": "python",
   "nbconvert_exporter": "python",
   "pygments_lexer": "ipython3",
   "version": "3.7.3"
  }
 },
 "nbformat": 4,
 "nbformat_minor": 2
}
